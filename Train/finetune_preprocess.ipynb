{
 "cells": [
  {
   "cell_type": "code",
   "id": "684873c5",
   "metadata": {
    "jupyter": {
     "is_executing": true
    }
   },
   "source": [
    "from datasets import load_dataset\n",
    "import pandas as pd\n",
    "from tqdm import tqdm\n",
    "from transformers import RobertaTokenizer\n",
    "import numpy as np\n",
    "import matplotlib.pyplot as plt\n",
    "from parser import DFG_java,DFG_csharp,DFG_python\n",
    "from parser import (remove_comments_and_docstrings,\n",
    "                   tree_to_token_index,\n",
    "                   index_to_code_token,\n",
    "                   tree_to_variable_index, \n",
    "                   detokenize_code, tree_to_token_nodes)\n",
    "from tree_sitter import Language, Parser\n",
    "import os\n",
    "import pickle\n",
    "\n",
    "\n",
    "def read_examples(split):\n",
    "    if (split=='valid') or (split=='dev'):\n",
    "        split='validation'\n",
    "    dataset = load_dataset('code_x_glue_cc_code_to_code_trans')[split]\n",
    "    examples = []\n",
    "    failed_count = 0\n",
    "    for eg in dataset:\n",
    "        java, cs = eg['java'][:-1], eg['cs'][:-1]\n",
    "        assert (java == remove_comments_and_docstrings(java, 'java') )\n",
    "        assert (cs == remove_comments_and_docstrings(cs, 'cs'))\n",
    "        examples.append([eg['id'],java,cs])\n",
    "    print ('No. of pairs', len(examples))\n",
    "    return pd.DataFrame(examples, columns=['id', 'java', 'cs'])\n",
    "\n",
    "\n",
    "def get_tokenizer_chars(tokenizer):\n",
    "    tokenizer_chars = []\n",
    "    for i in range(tokenizer.vocab_size):\n",
    "        token = tokenizer.decode(i)\n",
    "        if len(token)==1:\n",
    "            tokenizer_chars.append(token)\n",
    "    tokenizer_chars = [c for c in tokenizer_chars if c!='�']\n",
    "    return tokenizer_chars\n",
    "\n",
    "\n",
    "def tokenize_codes_texts(texts, batch_size=1024):\n",
    "    tokenizer = RobertaTokenizer.from_pretrained('codet5-base')\n",
    "    tokenizer_chars = get_tokenizer_chars(tokenizer)\n",
    "    texts = [''.join(filter(lambda c:c in tokenizer_chars, text)) for text in texts]\n",
    "    N = len(texts)\n",
    "    tokenized_texts = []\n",
    "    for start in range(0, len(texts),batch_size):\n",
    "        tokenized_texts += tokenizer(texts[start:start+batch_size]).input_ids\n",
    "    return tokenized_texts\n",
    "\n",
    "\n",
    "def length_stats(s, title=None):\n",
    "    try:\n",
    "        if type(s.iloc[0])==str: # a list encoded as str\n",
    "            lens = s.apply(lambda x:x.count(',')+1)\n",
    "        else: # a list\n",
    "            lens = s.apply(len)\n",
    "    except:\n",
    "        lens = s # s contains lengths\n",
    "    y = np.arange(100)\n",
    "    x = lens.quantile(y/100)\n",
    "    plt.figure()\n",
    "    plt.plot(x,y)\n",
    "    plt.title(title)\n",
    "    plt.show()\n",
    "    \n",
    "    \n",
    "def get_code_tokens_ranges(data, code_col, code_tokens_col):\n",
    "    tokenizer = RobertaTokenizer.from_pretrained('codet5-base')\n",
    "    pbar = data.itertuples()\n",
    "    ranges = []\n",
    "    \n",
    "    for row in pbar:\n",
    "        code_tokens = [tokenizer.decode(ct) for ct in getattr(row, code_tokens_col)][1:-1] # 1:-1 to remove <s> and </s>\n",
    "        code2 = ''.join(code_tokens) # may miss some spaces / special chars that are in row.code_col\n",
    "        code = getattr(row, code_col)\n",
    "        \n",
    "        # map each position in code2 to a position in code\n",
    "        code2_to_code = []\n",
    "        j=0\n",
    "        for i in range(len(code2)):\n",
    "            while code2[i]!=code[j]:\n",
    "                j += 1\n",
    "            code2_to_code.append(j)\n",
    "            \n",
    "        # map each code token to a range in code\n",
    "        code2_idx = 0\n",
    "        curr_ranges = []\n",
    "        for ct in code_tokens:\n",
    "            s,e = code2_idx, code2_idx+len(ct)\n",
    "            code2_idx = e\n",
    "            curr_ranges.append((min(code2_to_code[s:e]),1+max(code2_to_code[s:e])))\n",
    "        ranges.append([None]+curr_ranges+[None]) # first and last for <s> and </s>\n",
    "        \n",
    "    data[code_tokens_col+'_ranges'] = ranges\n",
    "    \n",
    "    \n",
    "def extract_structure(code, parser):\n",
    "    # ast\n",
    "    tree = parser[0].parse(bytes(code,'utf8'))    \n",
    "    root_node = tree.root_node  \n",
    "    ast_token_nodes = tree_to_token_nodes(root_node) # leaves\n",
    "    \n",
    "    # dfg\n",
    "    tokens_index = [(node.start_point, node.end_point) for node in ast_token_nodes]\n",
    "    code=code.split('\\n')\n",
    "    code_tokens=[index_to_code_token(x,code) for x in tokens_index] \n",
    "    index_to_code={index:(idx,code_) for idx,(index,code_) in enumerate(zip(tokens_index,code_tokens))}\n",
    "    try:\n",
    "        DFG,_ = parser[1](root_node,index_to_code,{}) \n",
    "    except:\n",
    "        DFG = []\n",
    "    for d in DFG:\n",
    "        assert (d[2]=='comesFrom' or d[2]=='computedFrom')\n",
    "    DFG = [(d[1], d[4]) for d in DFG if (len(d[4])>0)] # left comes from right\n",
    "    return code_tokens, ast_token_nodes, DFG\n",
    "\n",
    "\n",
    "def format_node_ranges(code, nodes):\n",
    "    line_lens = [len(line)+1 for line in code.split('\\n')]\n",
    "    line_starts = [0] + list(np.cumsum(line_lens))\n",
    "    return [(line_starts[node.start_point[0]]+node.start_point[1],\n",
    "             line_starts[node.end_point[0]]+node.end_point[1]) for node in nodes]\n",
    "    \n",
    "    \n",
    "def add_structure(data, lang):\n",
    "    LANGUAGE = Language('parser/my-languages2.so', 'c_sharp' if lang=='cs' else lang)\n",
    "    parser = Parser()\n",
    "    parser.set_language(LANGUAGE) \n",
    "    dfg_function={'python':DFG_python, 'java':DFG_java, 'cs':DFG_csharp, 'c_sharp':DFG_csharp}\n",
    "    parser = [parser, dfg_function[lang]]\n",
    "        \n",
    "    ast_leaf_tokens, ast_leaves, ast_leaf_ranges, dfg_edges = [], [], [], []\n",
    "    for code in data[lang]:\n",
    "        curr_code_tokens, curr_ast_leaves, curr_dfg_edges = extract_structure(code, parser)\n",
    "        ast_leaf_tokens.append(curr_code_tokens)\n",
    "        ast_leaves.append(curr_ast_leaves)\n",
    "        ast_leaf_ranges.append(format_node_ranges(code, curr_ast_leaves))\n",
    "        dfg_edges.append(curr_dfg_edges)\n",
    "        \n",
    "    data[lang+'_ast_leaves'] = ast_leaves # list of leaf nodes\n",
    "    data[lang+'_dfg_edges'] = dfg_edges # list of \"left leaf node index comes from right leaf nodes indices\"\n",
    "    data[lang+'_ast_leaf_tokens'] = ast_leaf_tokens # list of code substrings corresponding to each leaf\n",
    "    data[lang+'_ast_leaf_ranges'] = ast_leaf_ranges # list of (start,end) in code for each leaf node\n",
    "    \n",
    "    print ('# '+lang+' samples with failed/empty DFG:', (data[lang+'_dfg_edges'].apply(len)==0).sum())\n",
    "    \n",
    "    \n",
    "def overlap(s1,e1,s2,e2):\n",
    "    return s1<=s2<e1 or s2<=s1<e2\n",
    "    \n",
    "    \n",
    "def get_leaf_code_token_indices(data, lang):\n",
    "    ast_leaf_token_idxs = []\n",
    "    pbar = data.itertuples() if len(data)<=100000 else tqdm(data.itertuples())\n",
    "    for row in pbar:\n",
    "        ast_leaf_token_idxs.append([])\n",
    "        code_tokens_last_idx = len(getattr(row, lang+'_tokens'))-1\n",
    "        code_tokens_ranges = getattr(row, lang+'_tokens_ranges')\n",
    "        for s,e in getattr(row, lang+'_ast_leaf_ranges'):\n",
    "            if s==e: # there are leaves with start_point=end_point\n",
    "                ast_leaf_token_idxs[-1].append([])\n",
    "                continue\n",
    "            j = 1\n",
    "            while not(overlap(s,e,code_tokens_ranges[j][0],code_tokens_ranges[j][1])):\n",
    "                j += 1\n",
    "                if j==code_tokens_last_idx: # can't find code tokens for this leaf\n",
    "                    break\n",
    "            if j==code_tokens_last_idx: # can't find code tokens for this leaf\n",
    "                ast_leaf_token_idxs[-1].append([])\n",
    "                continue\n",
    "            curr_leaf_token_idxs = []\n",
    "            while overlap(s,e,code_tokens_ranges[j][0],code_tokens_ranges[j][1]):\n",
    "                curr_leaf_token_idxs.append(j)\n",
    "                j += 1\n",
    "                if j==code_tokens_last_idx:\n",
    "                    break\n",
    "            ast_leaf_token_idxs[-1].append(curr_leaf_token_idxs)\n",
    "    data[lang+'_ast_leaf_code_token_idxs'] = ast_leaf_token_idxs\n",
    "    print ('Average # leaves with no matching code tokens:', \n",
    "           data[lang+'_ast_leaf_code_token_idxs'].apply(lambda x:sum([1 for xi in x if xi==[]])).mean())\n",
    "    \n",
    "\n",
    "def get_lr_path(leaf):\n",
    "    path = [leaf]\n",
    "    while path[-1].parent is not None:\n",
    "        path.append(path[-1].parent)\n",
    "    return path\n",
    "\n",
    "\n",
    "def get_ll_sim(p1, p2): \n",
    "    common = 1\n",
    "    for i in range(2, min(len(p1), len(p2))+1):\n",
    "        if p1[-i]==p2[-i]:\n",
    "            common += 1\n",
    "        else:\n",
    "            break\n",
    "    return common*common / (len(p1)*len(p2))   \n",
    "\n",
    "\n",
    "def get_ast_lr_paths_and_ll_sim(data, lang):\n",
    "    sims = []\n",
    "    lr_paths = []\n",
    "    for i,row in tqdm(enumerate(data.itertuples())):\n",
    "        ast_leaves = getattr(row, lang+'_ast_leaves')\n",
    "        L = min(len(ast_leaves), 512)\n",
    "        curr_paths = [get_lr_path(leaf) for leaf in ast_leaves]\n",
    "        curr_sims = np.ones((L,L))\n",
    "        for i in range(L-1):\n",
    "            for j in range(i+1,L):\n",
    "                curr_sims[i,j] = curr_sims[j,i] = get_ll_sim(curr_paths[i], curr_paths[j])\n",
    "        sims.append(curr_sims)\n",
    "        lr_paths.append([[node.type for node in path] for path in curr_paths])\n",
    "    data.drop(columns=[lang+'_ast_leaves'], inplace=True)\n",
    "    data[lang+'_ll_sims'] = sims\n",
    "    data[lang+'_lr_paths_types'] = lr_paths\n",
    "\n",
    "\n",
    "def process_dfg_edges(data, lang):\n",
    "    dfg_node_code_token_idxs = []\n",
    "    dfg_edges = []\n",
    "    pbar = data.itertuples()  \n",
    "    for row in pbar:\n",
    "        curr_dfg_edges = getattr(row, lang+'_dfg_edges')\n",
    "        if len(curr_dfg_edges)>0:\n",
    "            nodes = sorted(list(set(np.concatenate([[left]+right for left,right in curr_dfg_edges]))))\n",
    "        else:\n",
    "            nodes = []\n",
    "        node_to_idx = {k:i for i,k in enumerate(nodes)}\n",
    "        ast_leaf_code_token_idxs = getattr(row, lang+'_ast_leaf_code_token_idxs')\n",
    "        dfg_node_code_token_idxs.append( [ast_leaf_code_token_idxs[i] for i in nodes] )\n",
    "        dfg_edges.append( [(node_to_idx[left], [node_to_idx[r] for r in right]) for left,right in curr_dfg_edges] )\n",
    "    data[lang+'_dfg_edges'] = dfg_edges\n",
    "    data[lang+'_dfg_node_code_token_idxs'] = dfg_node_code_token_idxs\n",
    "    \n",
    "    \n",
    "def some_more_stats(data, lang):\n",
    "    node_types = set(np.concatenate(list(data[lang+'_lr_paths_types'].apply(lambda ll:np.concatenate(ll)))))\n",
    "    print ('# node types:', len(node_types))\n",
    "    if 'ERROR' in node_types:\n",
    "        num_error_nodes = data[lang+'_lr_paths_types'].apply(lambda paths:\n",
    "                        np.mean(['ERROR' in path for path in paths]))\n",
    "        print ('Distrubution of fraction of leaf-root paths with ERROR node in one code')\n",
    "        length_stats(num_error_nodes)\n",
    "    print ('Distrubution of AST depth')\n",
    "    length_stats(data[lang+'_lr_paths_types'].apply(lambda paths:max([len(p) for p in paths])))          \n",
    "    print ('Distrubution of # ast leaves per code')\n",
    "    length_stats(data[lang+'_ast_leaf_code_token_idxs'].apply(len))\n",
    "    print ('Distrubution of # dfg nodes per code')\n",
    "    length_stats(data[lang+'_dfg_node_code_token_idxs'].apply(len))\n",
    "    print ('Distrubution of # dfg edges per code')\n",
    "    def num_dfg_edges(s):\n",
    "        if s==[]:\n",
    "            return 0\n",
    "        return sum([len(rights) for _,rights in s])\n",
    "    length_stats(data[lang+'_dfg_edges'].apply(num_dfg_edges))\n",
    "    return node_types\n"
   ],
   "outputs": [],
   "execution_count": null
  },
  {
   "cell_type": "markdown",
   "id": "aa29513c",
   "metadata": {},
   "source": [
    "## CodeXGLUE translation"
   ]
  },
  {
   "cell_type": "code",
   "execution_count": 2,
   "id": "4461033d",
   "metadata": {
    "scrolled": true
   },
   "outputs": [
    {
     "name": "stdout",
     "output_type": "stream",
     "text": [
      "\n",
      "\n",
      "Split=train\n"
     ]
    },
    {
     "ename": "ConnectionError",
     "evalue": "Couldn't reach 'code_x_glue_cc_code_to_code_trans' on the Hub (ConnectionError)",
     "output_type": "error",
     "traceback": [
      "\u001B[1;31m---------------------------------------------------------------------------\u001B[0m",
      "\u001B[1;31mConnectionError\u001B[0m                           Traceback (most recent call last)",
      "Cell \u001B[1;32mIn[2], line 7\u001B[0m\n\u001B[0;32m      5\u001B[0m \u001B[38;5;28;01mfor\u001B[39;00m split \u001B[38;5;129;01min\u001B[39;00m [\u001B[38;5;124m'\u001B[39m\u001B[38;5;124mtrain\u001B[39m\u001B[38;5;124m'\u001B[39m, \u001B[38;5;124m'\u001B[39m\u001B[38;5;124mvalidation\u001B[39m\u001B[38;5;124m'\u001B[39m, \u001B[38;5;124m'\u001B[39m\u001B[38;5;124mtest\u001B[39m\u001B[38;5;124m'\u001B[39m]:\n\u001B[0;32m      6\u001B[0m     \u001B[38;5;28mprint\u001B[39m (\u001B[38;5;124m'\u001B[39m\u001B[38;5;130;01m\\n\u001B[39;00m\u001B[38;5;130;01m\\n\u001B[39;00m\u001B[38;5;124mSplit=\u001B[39m\u001B[38;5;124m'\u001B[39m\u001B[38;5;241m+\u001B[39msplit)\n\u001B[1;32m----> 7\u001B[0m     data \u001B[38;5;241m=\u001B[39m \u001B[43mread_examples\u001B[49m\u001B[43m(\u001B[49m\u001B[43msplit\u001B[49m\u001B[43m)\u001B[49m \u001B[38;5;66;03m# id, java, cs\u001B[39;00m\n\u001B[0;32m      8\u001B[0m     \u001B[38;5;28;01mfor\u001B[39;00m lang \u001B[38;5;129;01min\u001B[39;00m [\u001B[38;5;124m'\u001B[39m\u001B[38;5;124mjava\u001B[39m\u001B[38;5;124m'\u001B[39m, \u001B[38;5;124m'\u001B[39m\u001B[38;5;124mcs\u001B[39m\u001B[38;5;124m'\u001B[39m]:\n\u001B[0;32m      9\u001B[0m         add_structure(data, lang) \u001B[38;5;66;03m# lang_ -> ast_leaves, dfg_edges, ast_leaf_tokens, ast_leaf_ranges\u001B[39;00m\n",
      "Cell \u001B[1;32mIn[1], line 21\u001B[0m, in \u001B[0;36mread_examples\u001B[1;34m(split)\u001B[0m\n\u001B[0;32m     19\u001B[0m \u001B[38;5;28;01mif\u001B[39;00m (split\u001B[38;5;241m==\u001B[39m\u001B[38;5;124m'\u001B[39m\u001B[38;5;124mvalid\u001B[39m\u001B[38;5;124m'\u001B[39m) \u001B[38;5;129;01mor\u001B[39;00m (split\u001B[38;5;241m==\u001B[39m\u001B[38;5;124m'\u001B[39m\u001B[38;5;124mdev\u001B[39m\u001B[38;5;124m'\u001B[39m):\n\u001B[0;32m     20\u001B[0m     split\u001B[38;5;241m=\u001B[39m\u001B[38;5;124m'\u001B[39m\u001B[38;5;124mvalidation\u001B[39m\u001B[38;5;124m'\u001B[39m\n\u001B[1;32m---> 21\u001B[0m dataset \u001B[38;5;241m=\u001B[39m \u001B[43mload_dataset\u001B[49m\u001B[43m(\u001B[49m\u001B[38;5;124;43m'\u001B[39;49m\u001B[38;5;124;43mcode_x_glue_cc_code_to_code_trans\u001B[39;49m\u001B[38;5;124;43m'\u001B[39;49m\u001B[43m)\u001B[49m[split]\n\u001B[0;32m     22\u001B[0m examples \u001B[38;5;241m=\u001B[39m []\n\u001B[0;32m     23\u001B[0m failed_count \u001B[38;5;241m=\u001B[39m \u001B[38;5;241m0\u001B[39m\n",
      "File \u001B[1;32mE:\\Anaconda\\envs\\ChatGLM3\\lib\\site-packages\\datasets\\load.py:2519\u001B[0m, in \u001B[0;36mload_dataset\u001B[1;34m(path, name, data_dir, data_files, split, cache_dir, features, download_config, download_mode, verification_mode, ignore_verifications, keep_in_memory, save_infos, revision, token, use_auth_token, task, streaming, num_proc, storage_options, trust_remote_code, **config_kwargs)\u001B[0m\n\u001B[0;32m   2514\u001B[0m verification_mode \u001B[38;5;241m=\u001B[39m VerificationMode(\n\u001B[0;32m   2515\u001B[0m     (verification_mode \u001B[38;5;129;01mor\u001B[39;00m VerificationMode\u001B[38;5;241m.\u001B[39mBASIC_CHECKS) \u001B[38;5;28;01mif\u001B[39;00m \u001B[38;5;129;01mnot\u001B[39;00m save_infos \u001B[38;5;28;01melse\u001B[39;00m VerificationMode\u001B[38;5;241m.\u001B[39mALL_CHECKS\n\u001B[0;32m   2516\u001B[0m )\n\u001B[0;32m   2518\u001B[0m \u001B[38;5;66;03m# Create a dataset builder\u001B[39;00m\n\u001B[1;32m-> 2519\u001B[0m builder_instance \u001B[38;5;241m=\u001B[39m load_dataset_builder(\n\u001B[0;32m   2520\u001B[0m     path\u001B[38;5;241m=\u001B[39mpath,\n\u001B[0;32m   2521\u001B[0m     name\u001B[38;5;241m=\u001B[39mname,\n\u001B[0;32m   2522\u001B[0m     data_dir\u001B[38;5;241m=\u001B[39mdata_dir,\n\u001B[0;32m   2523\u001B[0m     data_files\u001B[38;5;241m=\u001B[39mdata_files,\n\u001B[0;32m   2524\u001B[0m     cache_dir\u001B[38;5;241m=\u001B[39mcache_dir,\n\u001B[0;32m   2525\u001B[0m     features\u001B[38;5;241m=\u001B[39mfeatures,\n\u001B[0;32m   2526\u001B[0m     download_config\u001B[38;5;241m=\u001B[39mdownload_config,\n\u001B[0;32m   2527\u001B[0m     download_mode\u001B[38;5;241m=\u001B[39mdownload_mode,\n\u001B[0;32m   2528\u001B[0m     revision\u001B[38;5;241m=\u001B[39mrevision,\n\u001B[0;32m   2529\u001B[0m     token\u001B[38;5;241m=\u001B[39mtoken,\n\u001B[0;32m   2530\u001B[0m     storage_options\u001B[38;5;241m=\u001B[39mstorage_options,\n\u001B[0;32m   2531\u001B[0m     trust_remote_code\u001B[38;5;241m=\u001B[39mtrust_remote_code,\n\u001B[0;32m   2532\u001B[0m     _require_default_config_name\u001B[38;5;241m=\u001B[39mname \u001B[38;5;129;01mis\u001B[39;00m \u001B[38;5;28;01mNone\u001B[39;00m,\n\u001B[0;32m   2533\u001B[0m     \u001B[38;5;241m*\u001B[39m\u001B[38;5;241m*\u001B[39mconfig_kwargs,\n\u001B[0;32m   2534\u001B[0m )\n\u001B[0;32m   2536\u001B[0m \u001B[38;5;66;03m# Return iterable dataset in case of streaming\u001B[39;00m\n\u001B[0;32m   2537\u001B[0m \u001B[38;5;28;01mif\u001B[39;00m streaming:\n",
      "File \u001B[1;32mE:\\Anaconda\\envs\\ChatGLM3\\lib\\site-packages\\datasets\\load.py:2192\u001B[0m, in \u001B[0;36mload_dataset_builder\u001B[1;34m(path, name, data_dir, data_files, cache_dir, features, download_config, download_mode, revision, token, use_auth_token, storage_options, trust_remote_code, _require_default_config_name, **config_kwargs)\u001B[0m\n\u001B[0;32m   2190\u001B[0m     download_config \u001B[38;5;241m=\u001B[39m download_config\u001B[38;5;241m.\u001B[39mcopy() \u001B[38;5;28;01mif\u001B[39;00m download_config \u001B[38;5;28;01melse\u001B[39;00m DownloadConfig()\n\u001B[0;32m   2191\u001B[0m     download_config\u001B[38;5;241m.\u001B[39mstorage_options\u001B[38;5;241m.\u001B[39mupdate(storage_options)\n\u001B[1;32m-> 2192\u001B[0m dataset_module \u001B[38;5;241m=\u001B[39m \u001B[43mdataset_module_factory\u001B[49m\u001B[43m(\u001B[49m\n\u001B[0;32m   2193\u001B[0m \u001B[43m    \u001B[49m\u001B[43mpath\u001B[49m\u001B[43m,\u001B[49m\n\u001B[0;32m   2194\u001B[0m \u001B[43m    \u001B[49m\u001B[43mrevision\u001B[49m\u001B[38;5;241;43m=\u001B[39;49m\u001B[43mrevision\u001B[49m\u001B[43m,\u001B[49m\n\u001B[0;32m   2195\u001B[0m \u001B[43m    \u001B[49m\u001B[43mdownload_config\u001B[49m\u001B[38;5;241;43m=\u001B[39;49m\u001B[43mdownload_config\u001B[49m\u001B[43m,\u001B[49m\n\u001B[0;32m   2196\u001B[0m \u001B[43m    \u001B[49m\u001B[43mdownload_mode\u001B[49m\u001B[38;5;241;43m=\u001B[39;49m\u001B[43mdownload_mode\u001B[49m\u001B[43m,\u001B[49m\n\u001B[0;32m   2197\u001B[0m \u001B[43m    \u001B[49m\u001B[43mdata_dir\u001B[49m\u001B[38;5;241;43m=\u001B[39;49m\u001B[43mdata_dir\u001B[49m\u001B[43m,\u001B[49m\n\u001B[0;32m   2198\u001B[0m \u001B[43m    \u001B[49m\u001B[43mdata_files\u001B[49m\u001B[38;5;241;43m=\u001B[39;49m\u001B[43mdata_files\u001B[49m\u001B[43m,\u001B[49m\n\u001B[0;32m   2199\u001B[0m \u001B[43m    \u001B[49m\u001B[43mcache_dir\u001B[49m\u001B[38;5;241;43m=\u001B[39;49m\u001B[43mcache_dir\u001B[49m\u001B[43m,\u001B[49m\n\u001B[0;32m   2200\u001B[0m \u001B[43m    \u001B[49m\u001B[43mtrust_remote_code\u001B[49m\u001B[38;5;241;43m=\u001B[39;49m\u001B[43mtrust_remote_code\u001B[49m\u001B[43m,\u001B[49m\n\u001B[0;32m   2201\u001B[0m \u001B[43m    \u001B[49m\u001B[43m_require_default_config_name\u001B[49m\u001B[38;5;241;43m=\u001B[39;49m\u001B[43m_require_default_config_name\u001B[49m\u001B[43m,\u001B[49m\n\u001B[0;32m   2202\u001B[0m \u001B[43m\u001B[49m\u001B[43m)\u001B[49m\n\u001B[0;32m   2203\u001B[0m \u001B[38;5;66;03m# Get dataset builder class from the processing script\u001B[39;00m\n\u001B[0;32m   2204\u001B[0m builder_kwargs \u001B[38;5;241m=\u001B[39m dataset_module\u001B[38;5;241m.\u001B[39mbuilder_kwargs\n",
      "File \u001B[1;32mE:\\Anaconda\\envs\\ChatGLM3\\lib\\site-packages\\datasets\\load.py:1843\u001B[0m, in \u001B[0;36mdataset_module_factory\u001B[1;34m(path, revision, download_config, download_mode, dynamic_modules_path, data_dir, data_files, cache_dir, trust_remote_code, _require_default_config_name, **download_kwargs)\u001B[0m\n\u001B[0;32m   1838\u001B[0m             \u001B[38;5;28;01mif\u001B[39;00m \u001B[38;5;28misinstance\u001B[39m(e1, \u001B[38;5;167;01mFileNotFoundError\u001B[39;00m):\n\u001B[0;32m   1839\u001B[0m                 \u001B[38;5;28;01mraise\u001B[39;00m \u001B[38;5;167;01mFileNotFoundError\u001B[39;00m(\n\u001B[0;32m   1840\u001B[0m                     \u001B[38;5;124mf\u001B[39m\u001B[38;5;124m\"\u001B[39m\u001B[38;5;124mCouldn\u001B[39m\u001B[38;5;124m'\u001B[39m\u001B[38;5;124mt find a dataset script at \u001B[39m\u001B[38;5;132;01m{\u001B[39;00mrelative_to_absolute_path(combined_path)\u001B[38;5;132;01m}\u001B[39;00m\u001B[38;5;124m or any data file in the same directory. \u001B[39m\u001B[38;5;124m\"\u001B[39m\n\u001B[0;32m   1841\u001B[0m                     \u001B[38;5;124mf\u001B[39m\u001B[38;5;124m\"\u001B[39m\u001B[38;5;124mCouldn\u001B[39m\u001B[38;5;124m'\u001B[39m\u001B[38;5;124mt find \u001B[39m\u001B[38;5;124m'\u001B[39m\u001B[38;5;132;01m{\u001B[39;00mpath\u001B[38;5;132;01m}\u001B[39;00m\u001B[38;5;124m'\u001B[39m\u001B[38;5;124m on the Hugging Face Hub either: \u001B[39m\u001B[38;5;132;01m{\u001B[39;00m\u001B[38;5;28mtype\u001B[39m(e1)\u001B[38;5;241m.\u001B[39m\u001B[38;5;18m__name__\u001B[39m\u001B[38;5;132;01m}\u001B[39;00m\u001B[38;5;124m: \u001B[39m\u001B[38;5;132;01m{\u001B[39;00me1\u001B[38;5;132;01m}\u001B[39;00m\u001B[38;5;124m\"\u001B[39m\n\u001B[0;32m   1842\u001B[0m                 ) \u001B[38;5;28;01mfrom\u001B[39;00m \u001B[38;5;28;01mNone\u001B[39;00m\n\u001B[1;32m-> 1843\u001B[0m             \u001B[38;5;28;01mraise\u001B[39;00m e1 \u001B[38;5;28;01mfrom\u001B[39;00m \u001B[38;5;28;01mNone\u001B[39;00m\n\u001B[0;32m   1844\u001B[0m \u001B[38;5;28;01melse\u001B[39;00m:\n\u001B[0;32m   1845\u001B[0m     \u001B[38;5;28;01mraise\u001B[39;00m \u001B[38;5;167;01mFileNotFoundError\u001B[39;00m(\n\u001B[0;32m   1846\u001B[0m         \u001B[38;5;124mf\u001B[39m\u001B[38;5;124m\"\u001B[39m\u001B[38;5;124mCouldn\u001B[39m\u001B[38;5;124m'\u001B[39m\u001B[38;5;124mt find a dataset script at \u001B[39m\u001B[38;5;132;01m{\u001B[39;00mrelative_to_absolute_path(combined_path)\u001B[38;5;132;01m}\u001B[39;00m\u001B[38;5;124m or any data file in the same directory.\u001B[39m\u001B[38;5;124m\"\u001B[39m\n\u001B[0;32m   1847\u001B[0m     )\n",
      "File \u001B[1;32mE:\\Anaconda\\envs\\ChatGLM3\\lib\\site-packages\\datasets\\load.py:1779\u001B[0m, in \u001B[0;36mdataset_module_factory\u001B[1;34m(path, revision, download_config, download_mode, dynamic_modules_path, data_dir, data_files, cache_dir, trust_remote_code, _require_default_config_name, **download_kwargs)\u001B[0m\n\u001B[0;32m   1770\u001B[0m \u001B[38;5;28;01mexcept\u001B[39;00m \u001B[38;5;167;01mException\u001B[39;00m \u001B[38;5;28;01mas\u001B[39;00m e:  \u001B[38;5;66;03m# noqa catch any exception of hf_hub and consider that the dataset doesn't exist\u001B[39;00m\n\u001B[0;32m   1771\u001B[0m     \u001B[38;5;28;01mif\u001B[39;00m \u001B[38;5;28misinstance\u001B[39m(\n\u001B[0;32m   1772\u001B[0m         e,\n\u001B[0;32m   1773\u001B[0m         (\n\u001B[1;32m   (...)\u001B[0m\n\u001B[0;32m   1777\u001B[0m         ),\n\u001B[0;32m   1778\u001B[0m     ):\n\u001B[1;32m-> 1779\u001B[0m         \u001B[38;5;28;01mraise\u001B[39;00m \u001B[38;5;167;01mConnectionError\u001B[39;00m(\u001B[38;5;124mf\u001B[39m\u001B[38;5;124m\"\u001B[39m\u001B[38;5;124mCouldn\u001B[39m\u001B[38;5;124m'\u001B[39m\u001B[38;5;124mt reach \u001B[39m\u001B[38;5;124m'\u001B[39m\u001B[38;5;132;01m{\u001B[39;00mpath\u001B[38;5;132;01m}\u001B[39;00m\u001B[38;5;124m'\u001B[39m\u001B[38;5;124m on the Hub (\u001B[39m\u001B[38;5;132;01m{\u001B[39;00m\u001B[38;5;28mtype\u001B[39m(e)\u001B[38;5;241m.\u001B[39m\u001B[38;5;18m__name__\u001B[39m\u001B[38;5;132;01m}\u001B[39;00m\u001B[38;5;124m)\u001B[39m\u001B[38;5;124m\"\u001B[39m)\n\u001B[0;32m   1780\u001B[0m     \u001B[38;5;28;01melif\u001B[39;00m \u001B[38;5;124m\"\u001B[39m\u001B[38;5;124m404\u001B[39m\u001B[38;5;124m\"\u001B[39m \u001B[38;5;129;01min\u001B[39;00m \u001B[38;5;28mstr\u001B[39m(e):\n\u001B[0;32m   1781\u001B[0m         msg \u001B[38;5;241m=\u001B[39m \u001B[38;5;124mf\u001B[39m\u001B[38;5;124m\"\u001B[39m\u001B[38;5;124mDataset \u001B[39m\u001B[38;5;124m'\u001B[39m\u001B[38;5;132;01m{\u001B[39;00mpath\u001B[38;5;132;01m}\u001B[39;00m\u001B[38;5;124m'\u001B[39m\u001B[38;5;124m doesn\u001B[39m\u001B[38;5;124m'\u001B[39m\u001B[38;5;124mt exist on the Hub\u001B[39m\u001B[38;5;124m\"\u001B[39m\n",
      "\u001B[1;31mConnectionError\u001B[0m: Couldn't reach 'code_x_glue_cc_code_to_code_trans' on the Hub (ConnectionError)"
     ]
    }
   ],
   "source": [
    "# save_dir = 'data/codexglue_translation/'\n",
    "# os.makedirs(save_dir, exist_ok=True)\n",
    "# all_node_types = set()\n",
    "# data_by_split = {}\n",
    "# for split in ['train', 'validation', 'test']:\n",
    "#     print ('\\n\\nSplit='+split)\n",
    "#     data = read_examples(split) # id, java, cs\n",
    "#     for lang in ['java', 'cs']:\n",
    "#         add_structure(data, lang) # lang_ -> ast_leaves, dfg_edges, ast_leaf_tokens, ast_leaf_ranges\n",
    "#         data[lang+'_tokens'] = tokenize_codes_texts(list(data[lang]))\n",
    "#         length_stats(data[lang+'_tokens'], 'Distribution of #'+lang+'_tokens')\n",
    "#         get_code_tokens_ranges(data, lang, lang+'_tokens') # list of (start,end) one for each code_token\n",
    "#         data.drop(columns=[lang], inplace=True)\n",
    "#         get_leaf_code_token_indices(data, lang)\n",
    "#         data.drop(columns=[lang+c for c in ['_ast_leaf_tokens', '_ast_leaf_ranges', '_tokens_ranges']], \n",
    "#                   inplace=True)\n",
    "#         get_ast_lr_paths_and_ll_sim(data, lang)\n",
    "#         process_dfg_edges(data, lang)\n",
    "#         more_node_types = some_more_stats(data, lang)\n",
    "#         all_node_types.update(more_node_types)\n",
    "#     data_by_split[split] = data\n",
    "    \n",
    "# # Map node types to indices.\n",
    "# all_node_types = sorted(list(all_node_types))\n",
    "# node_type_to_ind = {t:i for i,t in enumerate(all_node_types)}\n",
    "# pickle.dump(all_node_types, open(save_dir+'all_node_types.pkl', 'wb'))\n",
    "\n",
    "# # Convert node types on paths to indices.\n",
    "# for split in ['train', 'validation', 'test']:\n",
    "#     for lang in ['java', 'cs']:\n",
    "#         data_by_split[split][lang+'_lr_paths_types'] = data_by_split[split][lang+'_lr_paths_types'].apply(\n",
    "#                                             lambda ll: [[node_type_to_ind[t] for t in path] for path in ll])\n",
    "        \n",
    "# # Save data. Not converting array cols to strings, storing with pickle.\n",
    "# pickle.dump(data_by_split, open(save_dir+'preprocessed_data_by_split.pkl','wb'))"
   ]
  },
  {
   "cell_type": "code",
   "execution_count": 3,
   "id": "d8d24491",
   "metadata": {
    "scrolled": true
   },
   "outputs": [
    {
     "ename": "ConnectionError",
     "evalue": "Couldn't reach 'code_x_glue_cc_code_to_code_trans' on the Hub (ConnectionError)",
     "output_type": "error",
     "traceback": [
      "\u001B[1;31m---------------------------------------------------------------------------\u001B[0m",
      "\u001B[1;31mConnectionError\u001B[0m                           Traceback (most recent call last)",
      "Cell \u001B[1;32mIn[3], line 2\u001B[0m\n\u001B[0;32m      1\u001B[0m \u001B[38;5;28;01mfrom\u001B[39;00m \u001B[38;5;21;01mdatasets\u001B[39;00m \u001B[38;5;28;01mimport\u001B[39;00m load_dataset\n\u001B[1;32m----> 2\u001B[0m dataset_splits \u001B[38;5;241m=\u001B[39m \u001B[43mload_dataset\u001B[49m\u001B[43m(\u001B[49m\u001B[38;5;124;43m'\u001B[39;49m\u001B[38;5;124;43mcode_x_glue_cc_code_to_code_trans\u001B[39;49m\u001B[38;5;124;43m'\u001B[39;49m\u001B[43m)\u001B[49m\n\u001B[0;32m      3\u001B[0m \u001B[38;5;28;01mfor\u001B[39;00m split \u001B[38;5;129;01min\u001B[39;00m [\u001B[38;5;124m'\u001B[39m\u001B[38;5;124mtrain\u001B[39m\u001B[38;5;124m'\u001B[39m, \u001B[38;5;124m'\u001B[39m\u001B[38;5;124mvalidation\u001B[39m\u001B[38;5;124m'\u001B[39m, \u001B[38;5;124m'\u001B[39m\u001B[38;5;124mtest\u001B[39m\u001B[38;5;124m'\u001B[39m]:\n\u001B[0;32m      4\u001B[0m     dataset \u001B[38;5;241m=\u001B[39m dataset_splits[split]\n",
      "File \u001B[1;32mE:\\Anaconda\\envs\\ChatGLM3\\lib\\site-packages\\datasets\\load.py:2519\u001B[0m, in \u001B[0;36mload_dataset\u001B[1;34m(path, name, data_dir, data_files, split, cache_dir, features, download_config, download_mode, verification_mode, ignore_verifications, keep_in_memory, save_infos, revision, token, use_auth_token, task, streaming, num_proc, storage_options, trust_remote_code, **config_kwargs)\u001B[0m\n\u001B[0;32m   2514\u001B[0m verification_mode \u001B[38;5;241m=\u001B[39m VerificationMode(\n\u001B[0;32m   2515\u001B[0m     (verification_mode \u001B[38;5;129;01mor\u001B[39;00m VerificationMode\u001B[38;5;241m.\u001B[39mBASIC_CHECKS) \u001B[38;5;28;01mif\u001B[39;00m \u001B[38;5;129;01mnot\u001B[39;00m save_infos \u001B[38;5;28;01melse\u001B[39;00m VerificationMode\u001B[38;5;241m.\u001B[39mALL_CHECKS\n\u001B[0;32m   2516\u001B[0m )\n\u001B[0;32m   2518\u001B[0m \u001B[38;5;66;03m# Create a dataset builder\u001B[39;00m\n\u001B[1;32m-> 2519\u001B[0m builder_instance \u001B[38;5;241m=\u001B[39m load_dataset_builder(\n\u001B[0;32m   2520\u001B[0m     path\u001B[38;5;241m=\u001B[39mpath,\n\u001B[0;32m   2521\u001B[0m     name\u001B[38;5;241m=\u001B[39mname,\n\u001B[0;32m   2522\u001B[0m     data_dir\u001B[38;5;241m=\u001B[39mdata_dir,\n\u001B[0;32m   2523\u001B[0m     data_files\u001B[38;5;241m=\u001B[39mdata_files,\n\u001B[0;32m   2524\u001B[0m     cache_dir\u001B[38;5;241m=\u001B[39mcache_dir,\n\u001B[0;32m   2525\u001B[0m     features\u001B[38;5;241m=\u001B[39mfeatures,\n\u001B[0;32m   2526\u001B[0m     download_config\u001B[38;5;241m=\u001B[39mdownload_config,\n\u001B[0;32m   2527\u001B[0m     download_mode\u001B[38;5;241m=\u001B[39mdownload_mode,\n\u001B[0;32m   2528\u001B[0m     revision\u001B[38;5;241m=\u001B[39mrevision,\n\u001B[0;32m   2529\u001B[0m     token\u001B[38;5;241m=\u001B[39mtoken,\n\u001B[0;32m   2530\u001B[0m     storage_options\u001B[38;5;241m=\u001B[39mstorage_options,\n\u001B[0;32m   2531\u001B[0m     trust_remote_code\u001B[38;5;241m=\u001B[39mtrust_remote_code,\n\u001B[0;32m   2532\u001B[0m     _require_default_config_name\u001B[38;5;241m=\u001B[39mname \u001B[38;5;129;01mis\u001B[39;00m \u001B[38;5;28;01mNone\u001B[39;00m,\n\u001B[0;32m   2533\u001B[0m     \u001B[38;5;241m*\u001B[39m\u001B[38;5;241m*\u001B[39mconfig_kwargs,\n\u001B[0;32m   2534\u001B[0m )\n\u001B[0;32m   2536\u001B[0m \u001B[38;5;66;03m# Return iterable dataset in case of streaming\u001B[39;00m\n\u001B[0;32m   2537\u001B[0m \u001B[38;5;28;01mif\u001B[39;00m streaming:\n",
      "File \u001B[1;32mE:\\Anaconda\\envs\\ChatGLM3\\lib\\site-packages\\datasets\\load.py:2192\u001B[0m, in \u001B[0;36mload_dataset_builder\u001B[1;34m(path, name, data_dir, data_files, cache_dir, features, download_config, download_mode, revision, token, use_auth_token, storage_options, trust_remote_code, _require_default_config_name, **config_kwargs)\u001B[0m\n\u001B[0;32m   2190\u001B[0m     download_config \u001B[38;5;241m=\u001B[39m download_config\u001B[38;5;241m.\u001B[39mcopy() \u001B[38;5;28;01mif\u001B[39;00m download_config \u001B[38;5;28;01melse\u001B[39;00m DownloadConfig()\n\u001B[0;32m   2191\u001B[0m     download_config\u001B[38;5;241m.\u001B[39mstorage_options\u001B[38;5;241m.\u001B[39mupdate(storage_options)\n\u001B[1;32m-> 2192\u001B[0m dataset_module \u001B[38;5;241m=\u001B[39m \u001B[43mdataset_module_factory\u001B[49m\u001B[43m(\u001B[49m\n\u001B[0;32m   2193\u001B[0m \u001B[43m    \u001B[49m\u001B[43mpath\u001B[49m\u001B[43m,\u001B[49m\n\u001B[0;32m   2194\u001B[0m \u001B[43m    \u001B[49m\u001B[43mrevision\u001B[49m\u001B[38;5;241;43m=\u001B[39;49m\u001B[43mrevision\u001B[49m\u001B[43m,\u001B[49m\n\u001B[0;32m   2195\u001B[0m \u001B[43m    \u001B[49m\u001B[43mdownload_config\u001B[49m\u001B[38;5;241;43m=\u001B[39;49m\u001B[43mdownload_config\u001B[49m\u001B[43m,\u001B[49m\n\u001B[0;32m   2196\u001B[0m \u001B[43m    \u001B[49m\u001B[43mdownload_mode\u001B[49m\u001B[38;5;241;43m=\u001B[39;49m\u001B[43mdownload_mode\u001B[49m\u001B[43m,\u001B[49m\n\u001B[0;32m   2197\u001B[0m \u001B[43m    \u001B[49m\u001B[43mdata_dir\u001B[49m\u001B[38;5;241;43m=\u001B[39;49m\u001B[43mdata_dir\u001B[49m\u001B[43m,\u001B[49m\n\u001B[0;32m   2198\u001B[0m \u001B[43m    \u001B[49m\u001B[43mdata_files\u001B[49m\u001B[38;5;241;43m=\u001B[39;49m\u001B[43mdata_files\u001B[49m\u001B[43m,\u001B[49m\n\u001B[0;32m   2199\u001B[0m \u001B[43m    \u001B[49m\u001B[43mcache_dir\u001B[49m\u001B[38;5;241;43m=\u001B[39;49m\u001B[43mcache_dir\u001B[49m\u001B[43m,\u001B[49m\n\u001B[0;32m   2200\u001B[0m \u001B[43m    \u001B[49m\u001B[43mtrust_remote_code\u001B[49m\u001B[38;5;241;43m=\u001B[39;49m\u001B[43mtrust_remote_code\u001B[49m\u001B[43m,\u001B[49m\n\u001B[0;32m   2201\u001B[0m \u001B[43m    \u001B[49m\u001B[43m_require_default_config_name\u001B[49m\u001B[38;5;241;43m=\u001B[39;49m\u001B[43m_require_default_config_name\u001B[49m\u001B[43m,\u001B[49m\n\u001B[0;32m   2202\u001B[0m \u001B[43m\u001B[49m\u001B[43m)\u001B[49m\n\u001B[0;32m   2203\u001B[0m \u001B[38;5;66;03m# Get dataset builder class from the processing script\u001B[39;00m\n\u001B[0;32m   2204\u001B[0m builder_kwargs \u001B[38;5;241m=\u001B[39m dataset_module\u001B[38;5;241m.\u001B[39mbuilder_kwargs\n",
      "File \u001B[1;32mE:\\Anaconda\\envs\\ChatGLM3\\lib\\site-packages\\datasets\\load.py:1843\u001B[0m, in \u001B[0;36mdataset_module_factory\u001B[1;34m(path, revision, download_config, download_mode, dynamic_modules_path, data_dir, data_files, cache_dir, trust_remote_code, _require_default_config_name, **download_kwargs)\u001B[0m\n\u001B[0;32m   1838\u001B[0m             \u001B[38;5;28;01mif\u001B[39;00m \u001B[38;5;28misinstance\u001B[39m(e1, \u001B[38;5;167;01mFileNotFoundError\u001B[39;00m):\n\u001B[0;32m   1839\u001B[0m                 \u001B[38;5;28;01mraise\u001B[39;00m \u001B[38;5;167;01mFileNotFoundError\u001B[39;00m(\n\u001B[0;32m   1840\u001B[0m                     \u001B[38;5;124mf\u001B[39m\u001B[38;5;124m\"\u001B[39m\u001B[38;5;124mCouldn\u001B[39m\u001B[38;5;124m'\u001B[39m\u001B[38;5;124mt find a dataset script at \u001B[39m\u001B[38;5;132;01m{\u001B[39;00mrelative_to_absolute_path(combined_path)\u001B[38;5;132;01m}\u001B[39;00m\u001B[38;5;124m or any data file in the same directory. \u001B[39m\u001B[38;5;124m\"\u001B[39m\n\u001B[0;32m   1841\u001B[0m                     \u001B[38;5;124mf\u001B[39m\u001B[38;5;124m\"\u001B[39m\u001B[38;5;124mCouldn\u001B[39m\u001B[38;5;124m'\u001B[39m\u001B[38;5;124mt find \u001B[39m\u001B[38;5;124m'\u001B[39m\u001B[38;5;132;01m{\u001B[39;00mpath\u001B[38;5;132;01m}\u001B[39;00m\u001B[38;5;124m'\u001B[39m\u001B[38;5;124m on the Hugging Face Hub either: \u001B[39m\u001B[38;5;132;01m{\u001B[39;00m\u001B[38;5;28mtype\u001B[39m(e1)\u001B[38;5;241m.\u001B[39m\u001B[38;5;18m__name__\u001B[39m\u001B[38;5;132;01m}\u001B[39;00m\u001B[38;5;124m: \u001B[39m\u001B[38;5;132;01m{\u001B[39;00me1\u001B[38;5;132;01m}\u001B[39;00m\u001B[38;5;124m\"\u001B[39m\n\u001B[0;32m   1842\u001B[0m                 ) \u001B[38;5;28;01mfrom\u001B[39;00m \u001B[38;5;28;01mNone\u001B[39;00m\n\u001B[1;32m-> 1843\u001B[0m             \u001B[38;5;28;01mraise\u001B[39;00m e1 \u001B[38;5;28;01mfrom\u001B[39;00m \u001B[38;5;28;01mNone\u001B[39;00m\n\u001B[0;32m   1844\u001B[0m \u001B[38;5;28;01melse\u001B[39;00m:\n\u001B[0;32m   1845\u001B[0m     \u001B[38;5;28;01mraise\u001B[39;00m \u001B[38;5;167;01mFileNotFoundError\u001B[39;00m(\n\u001B[0;32m   1846\u001B[0m         \u001B[38;5;124mf\u001B[39m\u001B[38;5;124m\"\u001B[39m\u001B[38;5;124mCouldn\u001B[39m\u001B[38;5;124m'\u001B[39m\u001B[38;5;124mt find a dataset script at \u001B[39m\u001B[38;5;132;01m{\u001B[39;00mrelative_to_absolute_path(combined_path)\u001B[38;5;132;01m}\u001B[39;00m\u001B[38;5;124m or any data file in the same directory.\u001B[39m\u001B[38;5;124m\"\u001B[39m\n\u001B[0;32m   1847\u001B[0m     )\n",
      "File \u001B[1;32mE:\\Anaconda\\envs\\ChatGLM3\\lib\\site-packages\\datasets\\load.py:1779\u001B[0m, in \u001B[0;36mdataset_module_factory\u001B[1;34m(path, revision, download_config, download_mode, dynamic_modules_path, data_dir, data_files, cache_dir, trust_remote_code, _require_default_config_name, **download_kwargs)\u001B[0m\n\u001B[0;32m   1770\u001B[0m \u001B[38;5;28;01mexcept\u001B[39;00m \u001B[38;5;167;01mException\u001B[39;00m \u001B[38;5;28;01mas\u001B[39;00m e:  \u001B[38;5;66;03m# noqa catch any exception of hf_hub and consider that the dataset doesn't exist\u001B[39;00m\n\u001B[0;32m   1771\u001B[0m     \u001B[38;5;28;01mif\u001B[39;00m \u001B[38;5;28misinstance\u001B[39m(\n\u001B[0;32m   1772\u001B[0m         e,\n\u001B[0;32m   1773\u001B[0m         (\n\u001B[1;32m   (...)\u001B[0m\n\u001B[0;32m   1777\u001B[0m         ),\n\u001B[0;32m   1778\u001B[0m     ):\n\u001B[1;32m-> 1779\u001B[0m         \u001B[38;5;28;01mraise\u001B[39;00m \u001B[38;5;167;01mConnectionError\u001B[39;00m(\u001B[38;5;124mf\u001B[39m\u001B[38;5;124m\"\u001B[39m\u001B[38;5;124mCouldn\u001B[39m\u001B[38;5;124m'\u001B[39m\u001B[38;5;124mt reach \u001B[39m\u001B[38;5;124m'\u001B[39m\u001B[38;5;132;01m{\u001B[39;00mpath\u001B[38;5;132;01m}\u001B[39;00m\u001B[38;5;124m'\u001B[39m\u001B[38;5;124m on the Hub (\u001B[39m\u001B[38;5;132;01m{\u001B[39;00m\u001B[38;5;28mtype\u001B[39m(e)\u001B[38;5;241m.\u001B[39m\u001B[38;5;18m__name__\u001B[39m\u001B[38;5;132;01m}\u001B[39;00m\u001B[38;5;124m)\u001B[39m\u001B[38;5;124m\"\u001B[39m)\n\u001B[0;32m   1780\u001B[0m     \u001B[38;5;28;01melif\u001B[39;00m \u001B[38;5;124m\"\u001B[39m\u001B[38;5;124m404\u001B[39m\u001B[38;5;124m\"\u001B[39m \u001B[38;5;129;01min\u001B[39;00m \u001B[38;5;28mstr\u001B[39m(e):\n\u001B[0;32m   1781\u001B[0m         msg \u001B[38;5;241m=\u001B[39m \u001B[38;5;124mf\u001B[39m\u001B[38;5;124m\"\u001B[39m\u001B[38;5;124mDataset \u001B[39m\u001B[38;5;124m'\u001B[39m\u001B[38;5;132;01m{\u001B[39;00mpath\u001B[38;5;132;01m}\u001B[39;00m\u001B[38;5;124m'\u001B[39m\u001B[38;5;124m doesn\u001B[39m\u001B[38;5;124m'\u001B[39m\u001B[38;5;124mt exist on the Hub\u001B[39m\u001B[38;5;124m\"\u001B[39m\n",
      "\u001B[1;31mConnectionError\u001B[0m: Couldn't reach 'code_x_glue_cc_code_to_code_trans' on the Hub (ConnectionError)"
     ]
    }
   ],
   "source": [
    "from datasets import load_dataset\n",
    "dataset_splits = load_dataset('code_x_glue_cc_code_to_code_trans')\n",
    "for split in ['train', 'validation', 'test']:\n",
    "    dataset = dataset_splits[split]\n",
    "    lines = {'java':[], 'cs':[]}\n",
    "    for eg in dataset:\n",
    "        lines['java'].append(eg['java'])\n",
    "        lines['cs'].append(eg['cs'])\n",
    "    for lang in ['java','cs']:\n",
    "        with open('data/codexglue_translation/'+split+'_'+lang+'.txt', 'w') as f:\n",
    "            lines[lang][-1] = lines[lang][-1][:-1] # to remove last empty line\n",
    "            f.writelines(lines[lang])        "
   ]
  },
  {
   "cell_type": "markdown",
   "id": "9fe97614",
   "metadata": {
    "scrolled": true
   },
   "source": [
    "## CodeXGLUE generation"
   ]
  },
  {
   "cell_type": "code",
   "execution_count": null,
   "id": "695bf2a3",
   "metadata": {
    "scrolled": false
   },
   "outputs": [
    {
     "name": "stdout",
     "output_type": "stream",
     "text": [
      "\n",
      "\n",
      "Split=train\n",
      "No. of pairs 100000\n"
     ]
    },
    {
     "name": "stderr",
     "output_type": "stream",
     "text": [
      "Token indices sequence length is longer than the specified maximum sequence length for this model (609 > 512). Running this sequence through the model will result in indexing errors\n"
     ]
    }
   ],
   "source": [
    "import json \n",
    "\n",
    "def read_examples(split):\n",
    "    if split in ['valid', 'validation']:\n",
    "        split='dev'\n",
    "    examples = []\n",
    "    with open('data/concode/'+split+'.json') as f:\n",
    "        for idx, line in enumerate(f):\n",
    "            x = json.loads(line)\n",
    "            nl, code = x[\"nl\"].strip(), x[\"code\"].strip()\n",
    "            assert (code == remove_comments_and_docstrings(code, 'java') )\n",
    "            assert ('\\n' not in code)\n",
    "            examples.append([idx, nl, code])\n",
    "    print ('No. of pairs', len(examples))\n",
    "    return pd.DataFrame(examples, columns=['id', 'nl', 'java'])\n",
    "\n",
    "save_dir = 'data/codexglue_generation/'\n",
    "os.makedirs(save_dir, exist_ok=True)\n",
    "all_node_types = set()\n",
    "data_by_split = {}\n",
    "lang = 'java'\n",
    "for split in ['train', 'validation', 'test']:\n",
    "    print ('\\n\\nSplit='+split)\n",
    "    data = read_examples(split) # id, nl, java\n",
    "    data['nl_tokens'] = tokenize_codes_texts(list(data['nl']))\n",
    "    length_stats(data['nl_tokens'], 'Distribution of #text_tokens')\n",
    "    add_structure(data, 'java') # lang_ -> ast_leaves, dfg_edges, ast_leaf_tokens, ast_leaf_ranges\n",
    "    data[lang+'_tokens'] = tokenize_codes_texts(list(data[lang]))\n",
    "    length_stats(data[lang+'_tokens'], 'Distribution of #'+lang+'_tokens')\n",
    "    get_code_tokens_ranges(data, lang, lang+'_tokens') # list of (start,end) one for each code_token\n",
    "    with open(save_dir+split+'_'+lang+'.txt', 'w') as f:\n",
    "        lines = [code+'\\n' for code in data[lang]]\n",
    "        lines[-1] = lines[-1][:-1] # to remove last empty line\n",
    "        f.writelines(lines) \n",
    "    data.drop(columns=['nl', lang], inplace=True)\n",
    "    get_leaf_code_token_indices(data, lang)\n",
    "    data.drop(columns=[lang+c for c in ['_ast_leaf_tokens', '_ast_leaf_ranges', '_tokens_ranges']], inplace=True)\n",
    "    get_ast_lr_paths_and_ll_sim(data, lang)\n",
    "    process_dfg_edges(data, lang)\n",
    "    more_node_types = some_more_stats(data, lang)\n",
    "    all_node_types.update(more_node_types)\n",
    "    data_by_split[split] = data\n",
    "    \n",
    "# Map node types to indices.\n",
    "all_node_types = sorted(list(all_node_types))\n",
    "node_type_to_ind = {t:i for i,t in enumerate(all_node_types)}\n",
    "pickle.dump(all_node_types, open(save_dir+'all_node_types.pkl', 'wb'))\n",
    "\n",
    "# Convert node types on paths to indices.\n",
    "for split in ['train', 'validation', 'test']:\n",
    "    data_by_split[split][lang+'_lr_paths_types'] = data_by_split[split][lang+'_lr_paths_types'].apply(\n",
    "                                            lambda ll: [[node_type_to_ind[t] for t in path] for path in ll])\n",
    "        \n",
    "# Save data. Not converting array cols to strings, storing with pickle.\n",
    "pickle.dump(data_by_split, open(save_dir+'preprocessed_data_by_split.pkl','wb'))"
   ]
  },
  {
   "cell_type": "code",
   "execution_count": null,
   "id": "f625234c",
   "metadata": {},
   "outputs": [],
   "source": []
  },
  {
   "cell_type": "markdown",
   "id": "e0e08abb",
   "metadata": {
    "scrolled": true
   },
   "source": [
    "## APPS generation"
   ]
  },
  {
   "cell_type": "code",
   "execution_count": 2,
   "id": "49a6e565",
   "metadata": {
    "scrolled": true
   },
   "outputs": [
    {
     "name": "stdout",
     "output_type": "stream",
     "text": [
      "\n",
      "\n",
      "Split=train\n"
     ]
    },
    {
     "name": "stderr",
     "output_type": "stream",
     "text": [
      "No config specified, defaulting to: apps/all\n",
      "Found cached dataset apps (/home/grads/tsaisindhura/.cache/huggingface/datasets/codeparrot___apps/all/0.0.0/04ac807715d07d6e5cc580f59cdc8213cd7dc4529d0bb819cca72c9f8e8c1aa5)\n",
      "100%|████████████████████████████████████████████████████████████████████████████████████| 2/2 [00:00<00:00, 414.97it/s]\n"
     ]
    },
    {
     "name": "stdout",
     "output_type": "stream",
     "text": [
      "No. of pairs 5000\n"
     ]
    },
    {
     "name": "stderr",
     "output_type": "stream",
     "text": [
      "Token indices sequence length is longer than the specified maximum sequence length for this model (753 > 512). Running this sequence through the model will result in indexing errors\n"
     ]
    },
    {
     "data": {
      "image/png": "[encoded data removed]",
      "text/plain": [
       "<Figure size 432x288 with 1 Axes>"
      ]
     },
     "metadata": {
      "needs_background": "light"
     },
     "output_type": "display_data"
    },
    {
     "name": "stdout",
     "output_type": "stream",
     "text": [
      "No. of pairs 117232\n",
      "# python samples with failed/empty DFG: 545\n"
     ]
    },
    {
     "name": "stderr",
     "output_type": "stream",
     "text": [
      "Token indices sequence length is longer than the specified maximum sequence length for this model (535 > 512). Running this sequence through the model will result in indexing errors\n"
     ]
    },
    {
     "data": {
      "image/png": "[encoded data removed]",
      "text/plain": [
       "<Figure size 432x288 with 1 Axes>"
      ]
     },
     "metadata": {
      "needs_background": "light"
     },
     "output_type": "display_data"
    },
    {
     "name": "stderr",
     "output_type": "stream",
     "text": [
      "117232it [05:57, 327.89it/s] \n"
     ]
    },
    {
     "name": "stdout",
     "output_type": "stream",
     "text": [
      "Average # leaves with no matching code tokens: 10.9705626450116\n"
     ]
    },
    {
     "name": "stderr",
     "output_type": "stream",
     "text": [
      "117232it [28:00, 69.75it/s] \n"
     ]
    },
    {
     "name": "stdout",
     "output_type": "stream",
     "text": [
      "# node types: 178\n",
      "Distrubution of fraction of leaf-root paths with ERROR node in one code\n"
     ]
    },
    {
     "data": {
      "image/png": "[encoded data removed]",
      "text/plain": [
       "<Figure size 432x288 with 1 Axes>"
      ]
     },
     "metadata": {
      "needs_background": "light"
     },
     "output_type": "display_data"
    },
    {
     "name": "stdout",
     "output_type": "stream",
     "text": [
      "Distrubution of AST depth\n"
     ]
    },
    {
     "data": {
      "image/png": "[encoded data removed]",
      "text/plain": [
       "<Figure size 432x288 with 1 Axes>"
      ]
     },
     "metadata": {
      "needs_background": "light"
     },
     "output_type": "display_data"
    },
    {
     "name": "stdout",
     "output_type": "stream",
     "text": [
      "Distrubution of # ast leaves per code\n"
     ]
    },
    {
     "data": {
      "image/png": "[encoded data removed]",
      "text/plain": [
       "<Figure size 432x288 with 1 Axes>"
      ]
     },
     "metadata": {
      "needs_background": "light"
     },
     "output_type": "display_data"
    },
    {
     "name": "stdout",
     "output_type": "stream",
     "text": [
      "Distrubution of # dfg nodes per code\n"
     ]
    },
    {
     "data": {
      "image/png": "[encoded data removed]",
      "text/plain": [
       "<Figure size 432x288 with 1 Axes>"
      ]
     },
     "metadata": {
      "needs_background": "light"
     },
     "output_type": "display_data"
    },
    {
     "name": "stdout",
     "output_type": "stream",
     "text": [
      "Distrubution of # dfg edges per code\n"
     ]
    },
    {
     "data": {
      "image/png": "[encoded data removed]",
      "text/plain": [
       "<Figure size 432x288 with 1 Axes>"
      ]
     },
     "metadata": {
      "needs_background": "light"
     },
     "output_type": "display_data"
    },
    {
     "name": "stdout",
     "output_type": "stream",
     "text": [
      "\n",
      "\n",
      "Split=test\n"
     ]
    },
    {
     "name": "stderr",
     "output_type": "stream",
     "text": [
      "No config specified, defaulting to: apps/all\n",
      "Found cached dataset apps (/home/grads/tsaisindhura/.cache/huggingface/datasets/codeparrot___apps/all/0.0.0/04ac807715d07d6e5cc580f59cdc8213cd7dc4529d0bb819cca72c9f8e8c1aa5)\n",
      "100%|████████████████████████████████████████████████████████████████████████████████████| 2/2 [00:00<00:00, 569.45it/s]\n"
     ]
    },
    {
     "name": "stdout",
     "output_type": "stream",
     "text": [
      "No. of pairs 5000\n"
     ]
    },
    {
     "name": "stderr",
     "output_type": "stream",
     "text": [
      "Token indices sequence length is longer than the specified maximum sequence length for this model (547 > 512). Running this sequence through the model will result in indexing errors\n"
     ]
    },
    {
     "data": {
      "image/png": "[encoded data removed]",
      "text/plain": [
       "<Figure size 432x288 with 1 Axes>"
      ]
     },
     "metadata": {
      "needs_background": "light"
     },
     "output_type": "display_data"
    },
    {
     "name": "stdout",
     "output_type": "stream",
     "text": [
      "Done.\n"
     ]
    }
   ],
   "source": [
    "# def read_examples(split):\n",
    "#     examples = []\n",
    "#     dataset = load_dataset(\"codeparrot/apps\")[split]\n",
    "#     for eg in dataset:\n",
    "#         if len(eg['starter_code'])>0:\n",
    "#             form = 'Use call-based format'\n",
    "#         else:\n",
    "#             form = 'Use cell-based format'\n",
    "#         if split=='train':\n",
    "#             sols = []\n",
    "#             for sol in eg['solutions'][2:-2].split('\", \"'):\n",
    "#                 # sol = reindent_code(sol)\n",
    "#                 sol = sol.replace('\\\\n', '\\n')\n",
    "#                 sols.append(sol)\n",
    "#             examples.append([eg['problem_id'], eg['question']+'\\n'+eg['starter_code']+'\\n'+form, sols])\n",
    "#         elif split=='test':\n",
    "#             examples.append([eg['problem_id'], eg['question']+'\\n'+eg['starter_code']+'\\n'+form, None])\n",
    "#     print ('No. of pairs', len(examples))     \n",
    "#     return pd.DataFrame(examples, columns=['id', 'nl', 'python'])\n",
    "\n",
    "# def get_leaf_code_token_indices_fast(data, lang):\n",
    "#     ast_leaf_token_idxs = []\n",
    "#     pbar = data.itertuples() if len(data)<=100000 else tqdm(data.itertuples())\n",
    "#     for row in pbar:\n",
    "#         jj = 1\n",
    "#         ast_leaf_token_idxs.append([])\n",
    "#         code_tokens_last_idx = len(getattr(row, lang+'_tokens'))-1\n",
    "#         code_tokens_ranges = getattr(row, lang+'_tokens_ranges')\n",
    "#         for s,e in getattr(row, lang+'_ast_leaf_ranges'):\n",
    "#             if s==e or jj==code_tokens_last_idx: # there are leaves with start_point=end_point\n",
    "#                 ast_leaf_token_idxs[-1].append([])\n",
    "#                 continue\n",
    "#             j = jj\n",
    "#             while not(overlap(s,e,code_tokens_ranges[j][0],code_tokens_ranges[j][1])):\n",
    "#                 j += 1\n",
    "#                 if j==code_tokens_last_idx: # can't find code tokens for this leaf\n",
    "#                     break\n",
    "#             if j==code_tokens_last_idx: # can't find code tokens for this leaf\n",
    "#                 ast_leaf_token_idxs[-1].append([])\n",
    "#                 continue\n",
    "#             curr_leaf_token_idxs = []\n",
    "#             while overlap(s,e,code_tokens_ranges[j][0],code_tokens_ranges[j][1]):\n",
    "#                 curr_leaf_token_idxs.append(j)\n",
    "#                 j += 1\n",
    "#                 if j==code_tokens_last_idx:\n",
    "#                     break\n",
    "#             jj = j\n",
    "#             ast_leaf_token_idxs[-1].append(curr_leaf_token_idxs)\n",
    "#     data[lang+'_ast_leaf_code_token_idxs'] = ast_leaf_token_idxs\n",
    "#     print ('Average # leaves with no matching code tokens:', \n",
    "#            data[lang+'_ast_leaf_code_token_idxs'].apply(lambda x:sum([1 for xi in x if xi==[]])).mean())\n",
    "\n",
    "\n",
    "\n",
    "# save_dir = 'data/apps_generation/'\n",
    "# os.makedirs(save_dir, exist_ok=True)\n",
    "# all_node_types = set()\n",
    "# data_by_split = {}\n",
    "# lang = 'python'\n",
    "# for split in ['train', 'test']:\n",
    "#     print ('\\n\\nSplit='+split)\n",
    "#     data = read_examples(split) # id, nl, python\n",
    "#     data['nl_tokens'] = tokenize_codes_texts(list(data['nl']))\n",
    "#     length_stats(data['nl_tokens'], 'Distribution of #text_tokens')\n",
    "#     if split!='test':\n",
    "#         data = pd.DataFrame([[row.id, row.nl, sol, row.nl_tokens] for row in data.itertuples() for sol in row.python], \n",
    "#                             columns=data.columns)\n",
    "#         print ('No. of pairs', len(data))  \n",
    "#         add_structure(data, lang) # lang_ -> ast_leaves, dfg_edges, ast_leaf_tokens, ast_leaf_ranges\n",
    "        \n",
    "#         # Keep a max of 5K leaves to speed up following code.\n",
    "#         for col in [lang+'_'+c for c in ['ast_leaves', 'ast_leaf_tokens', 'ast_leaf_ranges']]:\n",
    "#             data[col] = data[col].apply(lambda x:x[:5000])\n",
    "#         def f(edges):\n",
    "#             filtered_edges = []\n",
    "#             for left,rights in edges:\n",
    "#                 if left<5000:\n",
    "#                     rights = [r for r in rights if r<5000]\n",
    "#                     if len(rights)>0:\n",
    "#                         filtered_edges.append((left, rights))\n",
    "#             return filtered_edges\n",
    "#         data['python_dfg_edges'] = data['python_dfg_edges'].apply(f)\n",
    "            \n",
    "#         data[lang+'_tokens'] = tokenize_codes_texts(list(data[lang]))\n",
    "#         length_stats(data[lang+'_tokens'], 'Distribution of #'+lang+'_tokens')\n",
    "#         get_code_tokens_ranges(data, lang, lang+'_tokens') # list of (start,end) one for each code_token\n",
    "#         data.drop(columns=['nl', lang], inplace=True)\n",
    "#         get_leaf_code_token_indices_fast(data, lang)\n",
    "#         data.drop(columns=[lang+c for c in ['_ast_leaf_tokens', '_ast_leaf_ranges', '_tokens_ranges']], inplace=True)\n",
    "#         get_ast_lr_paths_and_ll_sim(data, lang)\n",
    "#         process_dfg_edges(data, lang)\n",
    "#         more_node_types = some_more_stats(data, lang)\n",
    "#         all_node_types.update(more_node_types)\n",
    "#     data_by_split[split] = data\n",
    "    \n",
    "# # Map node types to indices.\n",
    "# all_node_types = sorted(list(all_node_types))\n",
    "# node_type_to_ind = {t:i for i,t in enumerate(all_node_types)}\n",
    "# pickle.dump(all_node_types, open(save_dir+'all_node_types.pkl', 'wb'))\n",
    "\n",
    "# # Convert node types on paths to indices.\n",
    "# for split in ['train']:\n",
    "#     data_by_split[split][lang+'_lr_paths_types'] = data_by_split[split][lang+'_lr_paths_types'].apply(\n",
    "#                                             lambda ll: [[node_type_to_ind[t] for t in path] for path in ll])\n",
    "        \n",
    "# # Save data. Not converting array cols to strings, storing with pickle.\n",
    "# pickle.dump(data_by_split, open(save_dir+'preprocessed_data_by_split.pkl','wb'))\n",
    "# print ('Done.')"
   ]
  },
  {
   "cell_type": "code",
   "execution_count": null,
   "id": "c056e8a4",
   "metadata": {
    "scrolled": true
   },
   "outputs": [],
   "source": []
  },
  {
   "cell_type": "code",
   "execution_count": null,
   "id": "0a601036",
   "metadata": {
    "scrolled": true
   },
   "outputs": [],
   "source": []
  },
  {
   "cell_type": "code",
   "execution_count": null,
   "id": "93f1fcaf",
   "metadata": {},
   "outputs": [],
   "source": []
  }
 ],
 "metadata": {
  "kernelspec": {
   "display_name": "ChatGLM3",
   "language": "python",
   "name": "chatglm3"
  },
  "language_info": {
   "codemirror_mode": {
    "name": "ipython",
    "version": 3
   },
   "file_extension": ".py",
   "mimetype": "text/x-python",
   "name": "python",
   "nbconvert_exporter": "python",
   "pygments_lexer": "ipython3",
   "version": "3.10.13"
  }
 },
 "nbformat": 4,
 "nbformat_minor": 5
}
